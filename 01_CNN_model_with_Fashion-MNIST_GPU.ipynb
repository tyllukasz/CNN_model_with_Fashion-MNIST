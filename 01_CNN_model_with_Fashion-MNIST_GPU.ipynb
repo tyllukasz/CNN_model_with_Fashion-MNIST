{
 "cells": [
  {
   "cell_type": "markdown",
   "id": "8a4f4e43",
   "metadata": {},
   "source": [
    "# Convolutional neural network\n",
    "## Fashion-MNIST Dataset"
   ]
  },
  {
   "cell_type": "markdown",
   "id": "5d854e7a",
   "metadata": {},
   "source": [
    "### Imports"
   ]
  },
  {
   "cell_type": "code",
   "execution_count": 1,
   "id": "f950641f",
   "metadata": {},
   "outputs": [],
   "source": [
    "import torch\n",
    "import torch.nn as nn\n",
    "import torch.nn.functional as F\n",
    "from torch.utils.data import DataLoader\n",
    "from torchvision import datasets, transforms\n",
    "from torchvision.utils import make_grid\n",
    "\n",
    "import numpy as np\n",
    "import pandas as pd\n",
    "from sklearn.metrics import confusion_matrix\n",
    "import matplotlib.pyplot as plt\n",
    "%matplotlib inline\n",
    "\n",
    "transform = transforms.ToTensor()\n",
    "\n",
    "train_data = datasets.FashionMNIST(root='', train=True, download=True, transform=transform)\n",
    "test_data = datasets.FashionMNIST(root='', train=False, download=True, transform=transform)\n",
    "\n",
    "class_names = ['T-shirt','Trouser','Sweater','Dress','Coat','Sandal','Shirt','Sneaker','Bag','Boot']"
   ]
  },
  {
   "cell_type": "code",
   "execution_count": 2,
   "id": "54a8c661",
   "metadata": {},
   "outputs": [
    {
     "data": {
      "text/plain": [
       "True"
      ]
     },
     "execution_count": 2,
     "metadata": {},
     "output_type": "execute_result"
    }
   ],
   "source": [
    "torch.cuda.is_available()"
   ]
  },
  {
   "cell_type": "markdown",
   "id": "3abdd55a",
   "metadata": {},
   "source": [
    "### Data loaders"
   ]
  },
  {
   "cell_type": "code",
   "execution_count": 3,
   "id": "f1a2a61c",
   "metadata": {},
   "outputs": [],
   "source": [
    "train_loader = DataLoader(train_data,batch_size=10,shuffle=True)\n",
    "test_loader = DataLoader(test_data,batch_size=10,shuffle=False)"
   ]
  },
  {
   "cell_type": "code",
   "execution_count": 4,
   "id": "1317d6b4",
   "metadata": {},
   "outputs": [
    {
     "data": {
      "text/plain": [
       "\"\\ntrain_data.train_data = train_data.train_data.to(torch.device('cuda:0'))\\ntrain_data.train_labels = train_data.train_labels.to(torch.device('cuda:0'))\\n\\ntest_data.test_data = test_data.test_data.to(torch.device('cuda:0'))\\ntest_data.test_labels = test_data.test_labels.to(torch.device('cuda:0'))\\n\""
      ]
     },
     "execution_count": 4,
     "metadata": {},
     "output_type": "execute_result"
    }
   ],
   "source": [
    "'''\n",
    "train_data.train_data = train_data.train_data.to(torch.device('cuda:0'))\n",
    "train_data.train_labels = train_data.train_labels.to(torch.device('cuda:0'))\n",
    "\n",
    "test_data.test_data = test_data.test_data.to(torch.device('cuda:0'))\n",
    "test_data.test_labels = test_data.test_labels.to(torch.device('cuda:0'))\n",
    "'''"
   ]
  },
  {
   "cell_type": "code",
   "execution_count": 5,
   "id": "99c2dc94",
   "metadata": {},
   "outputs": [
    {
     "data": {
      "text/plain": [
       "0"
      ]
     },
     "execution_count": 5,
     "metadata": {},
     "output_type": "execute_result"
    }
   ],
   "source": [
    "torch.cuda.memory_allocated()"
   ]
  },
  {
   "cell_type": "code",
   "execution_count": null,
   "id": "4c88d748",
   "metadata": {},
   "outputs": [],
   "source": []
  },
  {
   "cell_type": "code",
   "execution_count": 6,
   "id": "13f32054",
   "metadata": {},
   "outputs": [],
   "source": [
    "for images, labels in train_loader:\n",
    "    break"
   ]
  },
  {
   "cell_type": "code",
   "execution_count": 7,
   "id": "e33a57d3",
   "metadata": {},
   "outputs": [
    {
     "name": "stdout",
     "output_type": "stream",
     "text": [
      "tensor([9, 9, 3, 9, 4, 6, 3, 2, 6, 1])\n"
     ]
    }
   ],
   "source": [
    "print(labels)"
   ]
  },
  {
   "cell_type": "code",
   "execution_count": 8,
   "id": "d68bf45f",
   "metadata": {},
   "outputs": [
    {
     "name": "stdout",
     "output_type": "stream",
     "text": [
      "Picture 1: Boot\n",
      "Picture 2: Boot\n",
      "Picture 3: Dress\n",
      "Picture 4: Boot\n",
      "Picture 5: Coat\n",
      "Picture 6: Shirt\n",
      "Picture 7: Dress\n",
      "Picture 8: Sweater\n",
      "Picture 9: Shirt\n",
      "Picture 10: Trouser\n"
     ]
    }
   ],
   "source": [
    "it = 0\n",
    "for i in labels:\n",
    "    print(f'Picture {it+1}: {class_names[i]}')\n",
    "    it += 1"
   ]
  },
  {
   "cell_type": "code",
   "execution_count": 9,
   "id": "f8d7e785",
   "metadata": {},
   "outputs": [
    {
     "data": {
      "text/plain": [
       "<matplotlib.image.AxesImage at 0x7fd6c5871e10>"
      ]
     },
     "execution_count": 9,
     "metadata": {},
     "output_type": "execute_result"
    },
    {
     "data": {
      "image/png": "[encoded data removed]",
      "text/plain": [
       "<Figure size 1200x800 with 1 Axes>"
      ]
     },
     "metadata": {
      "needs_background": "light"
     },
     "output_type": "display_data"
    }
   ],
   "source": [
    "img = make_grid(images, nrow=10)\n",
    "plt.figure(dpi=200)\n",
    "plt.imshow(np.transpose(img.numpy(),(1,2,0)))"
   ]
  },
  {
   "cell_type": "markdown",
   "id": "6a74ee6b",
   "metadata": {},
   "source": [
    "### Convolutional Neural Network Model"
   ]
  },
  {
   "cell_type": "code",
   "execution_count": 10,
   "id": "1f7e2783",
   "metadata": {},
   "outputs": [],
   "source": [
    "class ConvolutionalNeuralNetwork(nn.Module):\n",
    "    \n",
    "    def __init__(self):\n",
    "        \n",
    "        super().__init__()\n",
    "        self.conv1 = nn.Conv2d(1,8,3,1) # 1x28x28 --> 1x26x26 x8\n",
    "        #pooling                        # 1x26x26 --> 1x13x13 x8\n",
    "        self.conv2 = nn.Conv2d(8,16,3,1)# 1x13x13 --> 1x11x11 x16\n",
    "        #pooling                        # 1x11x11 --> 1x5x5 x16\n",
    "        self.fc1 = nn.Linear(5*5*16,256)    # 400 --> 120\n",
    "        self.fc2 = nn.Linear(256,128)     # 120 --> 10\n",
    "        self.fc3 = nn.Linear(128,10)\n",
    "        \n",
    "    def forward(self,X):\n",
    "        \n",
    "        X = self.conv1(X)\n",
    "        X = F.relu(X)\n",
    "        X = F.max_pool2d(X,2,2)\n",
    "        X = self.conv2(X)\n",
    "        X = F.max_pool2d(X,2,2)\n",
    "        X = F.relu(X)\n",
    "        X = X.view(-1,5*5*16)\n",
    "        X = self.fc1(X)\n",
    "        X = F.relu(X)\n",
    "        X = self.fc2(X)\n",
    "        X = F.relu(X)\n",
    "        X = self.fc3(X)\n",
    "        X = F.log_softmax(X,dim=1)\n",
    "        \n",
    "        return X \n",
    "        "
   ]
  },
  {
   "cell_type": "code",
   "execution_count": 11,
   "id": "4f609f41",
   "metadata": {},
   "outputs": [],
   "source": [
    "torch.manual_seed(101)\n",
    "model = ConvolutionalNeuralNetwork()\n",
    "model = model.cuda()"
   ]
  },
  {
   "cell_type": "code",
   "execution_count": 12,
   "id": "e3387488",
   "metadata": {},
   "outputs": [
    {
     "data": {
      "text/plain": [
       "True"
      ]
     },
     "execution_count": 12,
     "metadata": {},
     "output_type": "execute_result"
    }
   ],
   "source": [
    "next(model.parameters()).is_cuda"
   ]
  },
  {
   "cell_type": "code",
   "execution_count": 13,
   "id": "26b631ce",
   "metadata": {},
   "outputs": [],
   "source": [
    "def count_parameters(model):\n",
    "    params = [p.numel() for p in model.parameters() if p.requires_grad]\n",
    "    for item in params:\n",
    "        print(f'{item:>8}')\n",
    "    print(f'________\\n{sum(params):>8}')"
   ]
  },
  {
   "cell_type": "code",
   "execution_count": 14,
   "id": "06e1e09f",
   "metadata": {},
   "outputs": [
    {
     "name": "stdout",
     "output_type": "stream",
     "text": [
      "      72\n",
      "       8\n",
      "    1152\n",
      "      16\n",
      "  102400\n",
      "     256\n",
      "   32768\n",
      "     128\n",
      "    1280\n",
      "      10\n",
      "________\n",
      "  138090\n"
     ]
    }
   ],
   "source": [
    "count_parameters(model)"
   ]
  },
  {
   "cell_type": "markdown",
   "id": "2a14c58e",
   "metadata": {},
   "source": [
    "### Loss function and optimizer"
   ]
  },
  {
   "cell_type": "code",
   "execution_count": 15,
   "id": "67f2e494",
   "metadata": {},
   "outputs": [],
   "source": [
    "criterion = nn.CrossEntropyLoss()\n",
    "optimizer = torch.optim.Adam(model.parameters(),lr=0.0001)"
   ]
  },
  {
   "cell_type": "code",
   "execution_count": 16,
   "id": "56eb238b",
   "metadata": {},
   "outputs": [],
   "source": [
    "#for b, (X_train,y_train) in enumerate(train_loader):\n",
    "#    break"
   ]
  },
  {
   "cell_type": "code",
   "execution_count": null,
   "id": "3b3031be",
   "metadata": {},
   "outputs": [],
   "source": []
  },
  {
   "cell_type": "code",
   "execution_count": null,
   "id": "1da72af2",
   "metadata": {},
   "outputs": [],
   "source": []
  },
  {
   "cell_type": "markdown",
   "id": "47768759",
   "metadata": {},
   "source": [
    "### Model training"
   ]
  },
  {
   "cell_type": "code",
   "execution_count": 17,
   "id": "4ce9ce55",
   "metadata": {},
   "outputs": [
    {
     "name": "stdout",
     "output_type": "stream",
     "text": [
      "Epoch 0 || train loss = 0.8660667538642883 || test loss = 0.3579249978065491\n",
      "-> accuracy train = 0.7148333333333333 || -> accuracy test = 0.7787\n",
      "Epoch 1 || train loss = 0.23793211579322815 || test loss = 0.310813844203949\n",
      "-> accuracy train = 0.7979666666666667 || -> accuracy test = 0.8042\n",
      "Epoch 2 || train loss = 0.41237154603004456 || test loss = 0.17670021951198578\n",
      "-> accuracy train = 0.8249166666666666 || -> accuracy test = 0.8274\n",
      "Epoch 3 || train loss = 0.15147846937179565 || test loss = 0.1030251756310463\n",
      "-> accuracy train = 0.8445666666666667 || -> accuracy test = 0.8457\n",
      "Epoch 4 || train loss = 0.4635280966758728 || test loss = 0.08355759084224701\n",
      "-> accuracy train = 0.8588333333333333 || -> accuracy test = 0.8545\n",
      "Epoch 5 || train loss = 0.7188981175422668 || test loss = 0.09990696609020233\n",
      "-> accuracy train = 0.8667 || -> accuracy test = 0.8613\n",
      "Epoch 6 || train loss = 0.13487693667411804 || test loss = 0.07384403795003891\n",
      "-> accuracy train = 0.87325 || -> accuracy test = 0.8677\n",
      "Epoch 7 || train loss = 0.3441425859928131 || test loss = 0.03590673208236694\n",
      "-> accuracy train = 0.876 || -> accuracy test = 0.8712\n",
      "Epoch 8 || train loss = 0.11009860038757324 || test loss = 0.15703587234020233\n",
      "-> accuracy train = 0.8818166666666667 || -> accuracy test = 0.8692\n",
      "Epoch 9 || train loss = 0.6918156147003174 || test loss = 0.06096595525741577\n",
      "-> accuracy train = 0.88455 || -> accuracy test = 0.8759\n",
      "Total time = 2.5267753998438516 minutes\n"
     ]
    }
   ],
   "source": [
    "import time\n",
    "\n",
    "start_time = time.time()\n",
    "\n",
    "epochs = 10\n",
    "\n",
    "train_losses = []\n",
    "test_losses = []\n",
    "\n",
    "for epoch in range(0,epochs):\n",
    "    trn_corr = 0\n",
    "    tst_corr = 0\n",
    "    \n",
    "    # train batches\n",
    "    for b, (X_train,y_train) in enumerate(train_loader):\n",
    "        \n",
    "        X_train = X_train.to(torch.device('cuda:0'))\n",
    "        y_train = y_train.to(torch.device('cuda:0'))\n",
    "        \n",
    "        y_pred = model(X_train)\n",
    "        loss = criterion(y_pred,y_train)\n",
    "        \n",
    "        # number of correct predictions\n",
    "        predicted = torch.max(y_pred.data, 1)[1]\n",
    "        batch_corr = (predicted == y_train).sum()\n",
    "        trn_corr += batch_corr\n",
    "        \n",
    "        optimizer.zero_grad()\n",
    "        loss.backward()\n",
    "        optimizer.step()\n",
    "        \n",
    "    train_losses.append(loss)\n",
    "        \n",
    "    # test batches\n",
    "    with torch.no_grad():\n",
    "        for b, (X_test,y_test) in enumerate(test_loader):\n",
    "            \n",
    "            X_test = X_test.to(torch.device('cuda:0'))\n",
    "            y_test = y_test.to(torch.device('cuda:0'))\n",
    "            \n",
    "            y_pred = model(X_test)\n",
    "            loss = criterion(y_pred,y_test)\n",
    "            \n",
    "            predicted = torch.max(y_pred.data, 1)[1]\n",
    "            batch_corr = (predicted == y_test).sum()\n",
    "            tst_corr += batch_corr\n",
    "            \n",
    "    test_losses.append(loss)\n",
    "\n",
    "    print(f'Epoch {epoch} || train loss = {train_losses[epoch]} || test loss = {test_losses[epoch]}')\n",
    "    print(f'-> accuracy train = {trn_corr.item()/60000} || -> accuracy test = {tst_corr.item()/10000}')\n",
    "            \n",
    "stop_time = time.time() - start_time\n",
    "\n",
    "print(f'Total time = {stop_time/60} minutes')"
   ]
  },
  {
   "cell_type": "code",
   "execution_count": 24,
   "id": "ea8fe5f4",
   "metadata": {
    "scrolled": false
   },
   "outputs": [
    {
     "data": {
      "text/plain": [
       "[<matplotlib.lines.Line2D at 0x7fd6c480bcc0>]"
      ]
     },
     "execution_count": 24,
     "metadata": {},
     "output_type": "execute_result"
    },
    {
     "data": {
      "image/png": "[encoded data removed]",
      "text/plain": [
       "<Figure size 432x288 with 1 Axes>"
      ]
     },
     "metadata": {
      "needs_background": "light"
     },
     "output_type": "display_data"
    }
   ],
   "source": [
    "plt.plot(train_losses)\n",
    "plt.plot(test_losses)"
   ]
  },
  {
   "cell_type": "markdown",
   "id": "cd993cf1",
   "metadata": {},
   "source": [
    "## Single image through the model"
   ]
  },
  {
   "cell_type": "code",
   "execution_count": 50,
   "id": "eb80392d",
   "metadata": {},
   "outputs": [
    {
     "data": {
      "text/plain": [
       "<matplotlib.image.AxesImage at 0x7fd6c00a69e8>"
      ]
     },
     "execution_count": 50,
     "metadata": {},
     "output_type": "execute_result"
    },
    {
     "data": {
      "image/png": "[encoded data removed]",
      "text/plain": [
       "<Figure size 432x288 with 1 Axes>"
      ]
     },
     "metadata": {
      "needs_background": "light"
     },
     "output_type": "display_data"
    }
   ],
   "source": [
    "x = 1991\n",
    "im = test_data[x][0].reshape(28,28)\n",
    "plt.imshow(im,cmap=\"gist_yarg\")"
   ]
  },
  {
   "cell_type": "code",
   "execution_count": 51,
   "id": "2543994c",
   "metadata": {},
   "outputs": [
    {
     "name": "stdout",
     "output_type": "stream",
     "text": [
      "Predicted value: 1\n",
      "Label:  Trouser\n"
     ]
    }
   ],
   "source": [
    "model.eval()\n",
    "with torch.no_grad():\n",
    "    pic = test_data[x][0]\n",
    "    pic = pic.to(torch.device('cuda:0'))\n",
    "    new_pred = model(pic.view(1,1,28,28)).argmax()\n",
    "print(\"Predicted value:\",new_pred.item())\n",
    "print(\"Label: \", class_names[new_pred.item()] )"
   ]
  },
  {
   "cell_type": "code",
   "execution_count": 52,
   "id": "702bc1d9",
   "metadata": {},
   "outputs": [],
   "source": [
    "torch.save(model.state_dict(), 'CNN_Fashion-MNIST.pt')"
   ]
  },
  {
   "cell_type": "code",
   "execution_count": null,
   "id": "211fa241",
   "metadata": {},
   "outputs": [],
   "source": []
  }
 ],
 "metadata": {
  "kernelspec": {
   "display_name": "Python 3 (ipykernel)",
   "language": "python",
   "name": "python3"
  },
  "language_info": {
   "codemirror_mode": {
    "name": "ipython",
    "version": 3
   },
   "file_extension": ".py",
   "mimetype": "text/x-python",
   "name": "python",
   "nbconvert_exporter": "python",
   "pygments_lexer": "ipython3",
   "version": "3.7.3"
  }
 },
 "nbformat": 4,
 "nbformat_minor": 5
}
